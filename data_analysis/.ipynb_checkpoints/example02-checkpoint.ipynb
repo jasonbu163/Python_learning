{
 "cells": [
  {
   "cell_type": "markdown",
   "id": "6283b3f4",
   "metadata": {},
   "source": [
    "#  NumPy的应用-2"
   ]
  },
  {
   "cell_type": "code",
   "execution_count": 2,
   "id": "5caec6d0",
   "metadata": {},
   "outputs": [],
   "source": [
    "import numpy as np\n",
    "import pandas as pd\n",
    "import matplotlib.pyplot as plt"
   ]
  },
  {
   "cell_type": "markdown",
   "id": "33a712a3",
   "metadata": {},
   "source": [
    "##  数组跟标量的运算"
   ]
  },
  {
   "cell_type": "code",
   "execution_count": 3,
   "id": "392aae96",
   "metadata": {},
   "outputs": [
    {
     "name": "stdout",
     "output_type": "stream",
     "text": [
      "[11 12 13 14 15 16 17 18 19]\n",
      "[10 20 30 40 50 60 70 80 90]\n"
     ]
    }
   ],
   "source": [
    "array35 = np.arange(1, 10)\n",
    "print(array35 + 10)\n",
    "print(array35 * 10)"
   ]
  },
  {
   "cell_type": "markdown",
   "id": "f2b97e11",
   "metadata": {},
   "source": [
    "##  数组跟数组的运算"
   ]
  },
  {
   "cell_type": "code",
   "execution_count": 4,
   "id": "3fe4bbd4",
   "metadata": {},
   "outputs": [
    {
     "name": "stdout",
     "output_type": "stream",
     "text": [
      "[ 2  3  4  6  7  8 10 11 12]\n",
      "[ 1  2  3  8 10 12 21 24 27]\n",
      "[  1   2   3  16  25  36 343 512 729]\n"
     ]
    }
   ],
   "source": [
    "array36 = np.array([1, 1, 1, 2, 2, 2, 3, 3, 3])\n",
    "print(array35 + array36)\n",
    "print(array35 * array36)\n",
    "print(array35 ** array36)"
   ]
  },
  {
   "cell_type": "markdown",
   "id": "9db99112",
   "metadata": {},
   "source": [
    "##  通用一元函数"
   ]
  },
  {
   "cell_type": "code",
   "execution_count": 6,
   "id": "9f395bed",
   "metadata": {},
   "outputs": [
    {
     "name": "stdout",
     "output_type": "stream",
     "text": [
      "[1.         1.41421356 1.73205081 2.         2.23606798 2.44948974\n",
      " 2.64575131 2.82842712 3.        ]\n",
      "[0.         1.         1.5849625  2.         2.32192809 2.5849625\n",
      " 2.80735492 3.         3.169925  ]\n"
     ]
    }
   ],
   "source": [
    "print(np.sqrt(array35))\n",
    "print(np.log2(array35))"
   ]
  },
  {
   "cell_type": "markdown",
   "id": "b02fc17a",
   "metadata": {},
   "source": [
    "##  通用二元函数"
   ]
  },
  {
   "cell_type": "code",
   "execution_count": 7,
   "id": "21ce4eab",
   "metadata": {},
   "outputs": [
    {
     "name": "stdout",
     "output_type": "stream",
     "text": [
      "[[  4  25 216]\n",
      " [343  64   9]]\n",
      "[[  4  25 216]\n",
      " [343  64   9]]\n"
     ]
    }
   ],
   "source": [
    "array37 = np.array([[4, 5, 6], [7, 8, 9]])\n",
    "array38 = np.array([[1, 2, 3], [3, 2, 1]])\n",
    "print(array37 ** array38)\n",
    "print(np.power(array37, array38))"
   ]
  },
  {
   "cell_type": "markdown",
   "id": "1d024375",
   "metadata": {},
   "source": [
    "##  广播机制"
   ]
  },
  {
   "cell_type": "code",
   "execution_count": 9,
   "id": "425147ca",
   "metadata": {},
   "outputs": [
    {
     "data": {
      "text/plain": [
       "array([[1, 2, 3],\n",
       "       [2, 3, 4],\n",
       "       [3, 4, 5],\n",
       "       [4, 5, 6]])"
      ]
     },
     "execution_count": 9,
     "metadata": {},
     "output_type": "execute_result"
    }
   ],
   "source": [
    "array39 = np.array([[0, 0, 0], [1, 1, 1], [2, 2, 2], [3, 3, 3]])\n",
    "array40 = np.array([1, 2, 3])\n",
    "array39 + array40"
   ]
  },
  {
   "cell_type": "code",
   "execution_count": 11,
   "id": "bc17e87e",
   "metadata": {},
   "outputs": [
    {
     "data": {
      "text/plain": [
       "array([[1, 1, 1],\n",
       "       [3, 3, 3],\n",
       "       [5, 5, 5],\n",
       "       [7, 7, 7]])"
      ]
     },
     "execution_count": 11,
     "metadata": {},
     "output_type": "execute_result"
    }
   ],
   "source": [
    "array41 = np.array([[1], [2], [3], [4]])\n",
    "array39 + array41"
   ]
  },
  {
   "cell_type": "markdown",
   "id": "a8dab785",
   "metadata": {},
   "source": [
    "##  其他常用函数"
   ]
  },
  {
   "cell_type": "code",
   "execution_count": 13,
   "id": "3bd68248",
   "metadata": {},
   "outputs": [
    {
     "data": {
      "text/plain": [
       "array([[1, 1, 1, 4, 4, 4],\n",
       "       [2, 2, 2, 5, 5, 5],\n",
       "       [3, 3, 3, 6, 6, 6]])"
      ]
     },
     "execution_count": 13,
     "metadata": {},
     "output_type": "execute_result"
    }
   ],
   "source": [
    "array42 = np.array([[1, 1, 1], [2, 2, 2], [3, 3, 3]])\n",
    "array43 = np.array([[4, 4, 4], [5, 5, 5], [6, 6, 6]])\n",
    "np.hstack((array42, array43))"
   ]
  },
  {
   "cell_type": "code",
   "execution_count": 15,
   "id": "018b76c2",
   "metadata": {},
   "outputs": [
    {
     "data": {
      "text/plain": [
       "array([[1, 1, 1],\n",
       "       [2, 2, 2],\n",
       "       [3, 3, 3],\n",
       "       [4, 4, 4],\n",
       "       [5, 5, 5],\n",
       "       [6, 6, 6]])"
      ]
     },
     "execution_count": 15,
     "metadata": {},
     "output_type": "execute_result"
    }
   ],
   "source": [
    "np.vstack((array42, array43))"
   ]
  },
  {
   "cell_type": "code",
   "execution_count": 23,
   "id": "b5db3279",
   "metadata": {},
   "outputs": [
    {
     "data": {
      "text/plain": [
       "array([[1, 1, 1, 4, 4, 4],\n",
       "       [2, 2, 2, 5, 5, 5],\n",
       "       [3, 3, 3, 6, 6, 6]])"
      ]
     },
     "execution_count": 23,
     "metadata": {},
     "output_type": "execute_result"
    }
   ],
   "source": [
    "np.concatenate((array42, array43), axis=1)"
   ]
  },
  {
   "cell_type": "markdown",
   "id": "649eb3b6",
   "metadata": {},
   "source": [
    "##  矩阵运算"
   ]
  },
  {
   "cell_type": "markdown",
   "id": "abc4ddb2",
   "metadata": {},
   "source": [
    "###  NumPy中矩阵相关函数"
   ]
  },
  {
   "cell_type": "code",
   "execution_count": 26,
   "id": "5787763f",
   "metadata": {},
   "outputs": [
    {
     "data": {
      "text/plain": [
       "matrix([[1, 2, 3],\n",
       "        [4, 5, 6]])"
      ]
     },
     "execution_count": 26,
     "metadata": {},
     "output_type": "execute_result"
    }
   ],
   "source": [
    "# matrix构造函数可以传入类数组对象也可以传入字符串\n",
    "m1 = np.matrix('1 2 3; 4 5 6')\n",
    "m1"
   ]
  },
  {
   "cell_type": "code",
   "execution_count": 28,
   "id": "0f44468c",
   "metadata": {},
   "outputs": [
    {
     "data": {
      "text/plain": [
       "matrix([[1, 1],\n",
       "        [2, 2],\n",
       "        [3, 3]])"
      ]
     },
     "execution_count": 28,
     "metadata": {},
     "output_type": "execute_result"
    }
   ],
   "source": [
    "# asmatrix函数也可以写成mat函数，它们其实是同一个函数\n",
    "m2 = np.asmatrix(np.array([[1, 1], [2, 2], [3, 3]]))\n",
    "m2"
   ]
  },
  {
   "cell_type": "code",
   "execution_count": 30,
   "id": "07f0082f",
   "metadata": {},
   "outputs": [
    {
     "data": {
      "text/plain": [
       "matrix([[14, 14],\n",
       "        [32, 32]])"
      ]
     },
     "execution_count": 30,
     "metadata": {},
     "output_type": "execute_result"
    }
   ],
   "source": [
    "m1 * m2"
   ]
  },
  {
   "cell_type": "markdown",
   "id": "e15ed0c3",
   "metadata": {},
   "source": [
    "###  NumPy的线性代数模块"
   ]
  },
  {
   "cell_type": "code",
   "execution_count": 33,
   "id": "fb227823",
   "metadata": {},
   "outputs": [
    {
     "data": {
      "text/plain": [
       "array([[-2. ,  1. ],\n",
       "       [ 1.5, -0.5]])"
      ]
     },
     "execution_count": 33,
     "metadata": {},
     "output_type": "execute_result"
    }
   ],
   "source": [
    "m3 = np.array([[1., 2.], [3., 4.]])\n",
    "np.linalg.inv(m3)"
   ]
  },
  {
   "cell_type": "code",
   "execution_count": 35,
   "id": "756680d6",
   "metadata": {},
   "outputs": [
    {
     "data": {
      "text/plain": [
       "1.9999999999999993"
      ]
     },
     "execution_count": 35,
     "metadata": {},
     "output_type": "execute_result"
    }
   ],
   "source": [
    "m4 = np.array([[1, 3, 5], [2, 4, 6], [4, 7, 9]])\n",
    "np.linalg.det(m4)"
   ]
  },
  {
   "cell_type": "code",
   "execution_count": 36,
   "id": "f6d767bf",
   "metadata": {},
   "outputs": [
    {
     "data": {
      "text/plain": [
       "array([2., 3.])"
      ]
     },
     "execution_count": 36,
     "metadata": {},
     "output_type": "execute_result"
    }
   ],
   "source": [
    "# 解线性方程组ax=b\n",
    "# 3x + y = 9，x + 2y = 8\n",
    "a = np.array([[3,1], [1,2]])\n",
    "b = np.array([9, 8])\n",
    "np.linalg.solve(a, b)"
   ]
  }
 ],
 "metadata": {
  "kernelspec": {
   "display_name": "Python 3 (ipykernel)",
   "language": "python",
   "name": "python3"
  },
  "language_info": {
   "codemirror_mode": {
    "name": "ipython",
    "version": 3
   },
   "file_extension": ".py",
   "mimetype": "text/x-python",
   "name": "python",
   "nbconvert_exporter": "python",
   "pygments_lexer": "ipython3",
   "version": "3.9.7"
  }
 },
 "nbformat": 4,
 "nbformat_minor": 5
}
