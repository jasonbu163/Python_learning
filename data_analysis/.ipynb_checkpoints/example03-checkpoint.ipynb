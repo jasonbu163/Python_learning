{
 "cells": [
  {
   "cell_type": "markdown",
   "id": "71271d8b",
   "metadata": {},
   "source": [
    "# Pandas的应用-1"
   ]
  },
  {
   "cell_type": "code",
   "execution_count": 2,
   "id": "40a97548",
   "metadata": {},
   "outputs": [],
   "source": [
    "import numpy as np\n",
    "import pandas as pd\n",
    "import matplotlib.pyplot as plt"
   ]
  },
  {
   "cell_type": "markdown",
   "id": "570a44b9",
   "metadata": {},
   "source": [
    "## Series的应用"
   ]
  },
  {
   "cell_type": "markdown",
   "id": "38c1f336",
   "metadata": {},
   "source": [
    "### 创建Series对象"
   ]
  },
  {
   "cell_type": "markdown",
   "id": "42bb6b5a",
   "metadata": {},
   "source": [
    "####  方法1：通过列表或数组创建Series对象"
   ]
  },
  {
   "cell_type": "code",
   "execution_count": 6,
   "id": "22994d29",
   "metadata": {},
   "outputs": [
    {
     "data": {
      "text/plain": [
       "一季度    320\n",
       "二季度    180\n",
       "三季度    300\n",
       "四季度    405\n",
       "dtype: int64"
      ]
     },
     "execution_count": 6,
     "metadata": {},
     "output_type": "execute_result"
    }
   ],
   "source": [
    "# data参数表示数据，index参数表示数据的索引（标签）\n",
    "# 如果没有指定index属性，默认使用数字索引\n",
    "ser1 = pd.Series(data=[320, 180, 300, 405], index=['一季度', '二季度', '三季度', '四季度'])\n",
    "ser1"
   ]
  },
  {
   "cell_type": "markdown",
   "id": "1f621ac3",
   "metadata": {},
   "source": [
    "####  方法2：通过字典创建Series对象"
   ]
  },
  {
   "cell_type": "code",
   "execution_count": 8,
   "id": "c7556948",
   "metadata": {},
   "outputs": [
    {
     "data": {
      "text/plain": [
       "一季度    320\n",
       "二季度    180\n",
       "三季度    300\n",
       "四季度    405\n",
       "dtype: int64"
      ]
     },
     "execution_count": 8,
     "metadata": {},
     "output_type": "execute_result"
    }
   ],
   "source": [
    "# 字典中的键就是数据的索引（标签），字典中的值就是数据\n",
    "ser2 = pd.Series({'一季度': 320, '二季度': 180, '三季度': 300, '四季度': 405})\n",
    "ser2"
   ]
  },
  {
   "cell_type": "markdown",
   "id": "2a4c6488",
   "metadata": {},
   "source": [
    "###  索引和切片"
   ]
  },
  {
   "cell_type": "markdown",
   "id": "d4abb6d4",
   "metadata": {},
   "source": [
    "####  使用整数索引"
   ]
  },
  {
   "cell_type": "code",
   "execution_count": 13,
   "id": "e60c74ec",
   "metadata": {},
   "outputs": [
    {
     "name": "stdout",
     "output_type": "stream",
     "text": [
      "350 180 300 360\n",
      "一季度    350\n",
      "二季度    180\n",
      "三季度    300\n",
      "四季度    360\n",
      "dtype: int64\n"
     ]
    }
   ],
   "source": [
    "print(ser2[0], ser2[1], ser2[2], ser2[3])\n",
    "ser2[0], ser2[3] = 350, 360\n",
    "print(ser2)"
   ]
  },
  {
   "cell_type": "markdown",
   "id": "b549f473",
   "metadata": {},
   "source": [
    "#### 使用自定义的标签索引"
   ]
  },
  {
   "cell_type": "code",
   "execution_count": 15,
   "id": "29b923bd",
   "metadata": {},
   "outputs": [
    {
     "name": "stdout",
     "output_type": "stream",
     "text": [
      "380 300\n",
      "一季度    380\n",
      "二季度    180\n",
      "三季度    300\n",
      "四季度    360\n",
      "dtype: int64\n"
     ]
    }
   ],
   "source": [
    "print(ser2['一季度'], ser2['三季度'])\n",
    "ser2['一季度'] = 380\n",
    "print(ser2)"
   ]
  },
  {
   "cell_type": "markdown",
   "id": "6d9b0b58",
   "metadata": {},
   "source": [
    "#### 切片操作"
   ]
  },
  {
   "cell_type": "code",
   "execution_count": 18,
   "id": "7a5499e7",
   "metadata": {},
   "outputs": [
    {
     "name": "stdout",
     "output_type": "stream",
     "text": [
      "二季度    180\n",
      "三季度    300\n",
      "dtype: int64\n",
      "二季度    180\n",
      "三季度    300\n",
      "四季度    360\n",
      "dtype: int64\n"
     ]
    }
   ],
   "source": [
    "print(ser2[1:3])\n",
    "print(ser2['二季度':'四季度'])"
   ]
  },
  {
   "cell_type": "code",
   "execution_count": 20,
   "id": "18189944",
   "metadata": {},
   "outputs": [
    {
     "data": {
      "text/plain": [
       "一季度    380\n",
       "二季度    400\n",
       "三季度    500\n",
       "四季度    360\n",
       "dtype: int64"
      ]
     },
     "execution_count": 20,
     "metadata": {},
     "output_type": "execute_result"
    }
   ],
   "source": [
    "ser2[1:3] = 400, 500\n",
    "ser2"
   ]
  },
  {
   "cell_type": "markdown",
   "id": "91f59c79",
   "metadata": {},
   "source": [
    "#### 花式索引"
   ]
  },
  {
   "cell_type": "code",
   "execution_count": 22,
   "id": "d6bbe4ba",
   "metadata": {},
   "outputs": [
    {
     "name": "stdout",
     "output_type": "stream",
     "text": [
      "二季度    500\n",
      "四季度    520\n",
      "dtype: int64\n",
      "一季度    380\n",
      "二季度    500\n",
      "三季度    500\n",
      "四季度    520\n",
      "dtype: int64\n"
     ]
    }
   ],
   "source": [
    "print(ser2[['二季度', '四季度']])\n",
    "ser2[['二季度', '四季度']] = 500, 520\n",
    "print(ser2)"
   ]
  },
  {
   "cell_type": "markdown",
   "id": "ef48fc56",
   "metadata": {},
   "source": [
    "#### 布尔索引"
   ]
  },
  {
   "cell_type": "code",
   "execution_count": 26,
   "id": "6b00ac3d",
   "metadata": {},
   "outputs": [
    {
     "data": {
      "text/plain": [
       "二季度    500\n",
       "三季度    500\n",
       "四季度    520\n",
       "dtype: int64"
      ]
     },
     "execution_count": 26,
     "metadata": {},
     "output_type": "execute_result"
    }
   ],
   "source": [
    "ser2[ser2 >= 500]"
   ]
  },
  {
   "cell_type": "markdown",
   "id": "a77b75de",
   "metadata": {},
   "source": [
    "### 属性和方法"
   ]
  },
  {
   "cell_type": "markdown",
   "id": "2e8d2f68",
   "metadata": {},
   "source": [
    "#### 统计相关的方法"
   ]
  },
  {
   "cell_type": "code",
   "execution_count": 28,
   "id": "0e90661b",
   "metadata": {},
   "outputs": [
    {
     "name": "stdout",
     "output_type": "stream",
     "text": [
      "1900\n",
      "475.0\n",
      "520\n",
      "380\n",
      "4\n",
      "64.03124237432849\n",
      "4100.0\n",
      "500.0\n"
     ]
    }
   ],
   "source": [
    "# 求和\n",
    "print(ser2.sum())\n",
    "# 求均值\n",
    "print(ser2.mean())\n",
    "# 求最大\n",
    "print(ser2.max())\n",
    "# 求最小\n",
    "print(ser2.min())\n",
    "# 计数\n",
    "print(ser2.count())\n",
    "# 求标准差\n",
    "print(ser2.std())\n",
    "# 求方差\n",
    "print(ser2.var())\n",
    "# 求中位数\n",
    "print(ser2.median())"
   ]
  },
  {
   "cell_type": "code",
   "execution_count": 31,
   "id": "4eea5d3e",
   "metadata": {},
   "outputs": [
    {
     "data": {
      "text/plain": [
       "count      4.000000\n",
       "mean     475.000000\n",
       "std       64.031242\n",
       "min      380.000000\n",
       "25%      470.000000\n",
       "50%      500.000000\n",
       "75%      505.000000\n",
       "max      520.000000\n",
       "dtype: float64"
      ]
     },
     "execution_count": 31,
     "metadata": {},
     "output_type": "execute_result"
    }
   ],
   "source": [
    "ser2.describe()"
   ]
  },
  {
   "cell_type": "code",
   "execution_count": 34,
   "id": "dd398732",
   "metadata": {},
   "outputs": [
    {
     "data": {
      "text/plain": [
       "apple     3\n",
       "pitaya    2\n",
       "banana    1\n",
       "durian    1\n",
       "dtype: int64"
      ]
     },
     "execution_count": 34,
     "metadata": {},
     "output_type": "execute_result"
    }
   ],
   "source": [
    "ser3 = pd.Series(data=['apple', 'banana', 'apple', 'pitaya', 'apple', 'pitaya', 'durian'])\n",
    "ser3.value_counts()"
   ]
  },
  {
   "cell_type": "code",
   "execution_count": 36,
   "id": "0d4e0356",
   "metadata": {},
   "outputs": [
    {
     "data": {
      "text/plain": [
       "4"
      ]
     },
     "execution_count": 36,
     "metadata": {},
     "output_type": "execute_result"
    }
   ],
   "source": [
    "ser3.nunique()"
   ]
  },
  {
   "cell_type": "markdown",
   "id": "0f1f992d",
   "metadata": {},
   "source": [
    "#### 数据处理的方法"
   ]
  },
  {
   "cell_type": "code",
   "execution_count": 39,
   "id": "efb6ecf0",
   "metadata": {},
   "outputs": [
    {
     "data": {
      "text/plain": [
       "0    False\n",
       "1    False\n",
       "2     True\n",
       "3    False\n",
       "4     True\n",
       "dtype: bool"
      ]
     },
     "execution_count": 39,
     "metadata": {},
     "output_type": "execute_result"
    }
   ],
   "source": [
    "ser4 = pd.Series(data=[10, 20, np.NaN, 30, np.NaN])\n",
    "ser4.isnull()"
   ]
  },
  {
   "cell_type": "code",
   "execution_count": 41,
   "id": "c44940f6",
   "metadata": {},
   "outputs": [
    {
     "data": {
      "text/plain": [
       "0     True\n",
       "1     True\n",
       "2    False\n",
       "3     True\n",
       "4    False\n",
       "dtype: bool"
      ]
     },
     "execution_count": 41,
     "metadata": {},
     "output_type": "execute_result"
    }
   ],
   "source": [
    "ser4.notnull()"
   ]
  },
  {
   "cell_type": "code",
   "execution_count": 43,
   "id": "05d01f2a",
   "metadata": {},
   "outputs": [
    {
     "data": {
      "text/plain": [
       "0    10.0\n",
       "1    20.0\n",
       "3    30.0\n",
       "dtype: float64"
      ]
     },
     "execution_count": 43,
     "metadata": {},
     "output_type": "execute_result"
    }
   ],
   "source": [
    "ser4.dropna()"
   ]
  },
  {
   "cell_type": "code",
   "execution_count": 45,
   "id": "695c4dba",
   "metadata": {},
   "outputs": [
    {
     "data": {
      "text/plain": [
       "0    10.0\n",
       "1    20.0\n",
       "2    40.0\n",
       "3    30.0\n",
       "4    40.0\n",
       "dtype: float64"
      ]
     },
     "execution_count": 45,
     "metadata": {},
     "output_type": "execute_result"
    }
   ],
   "source": [
    "# 将空值填充为40\n",
    "ser4.fillna(value=40)"
   ]
  },
  {
   "cell_type": "code",
   "execution_count": 47,
   "id": "f2ab72bb",
   "metadata": {},
   "outputs": [
    {
     "data": {
      "text/plain": [
       "0    10.0\n",
       "1    20.0\n",
       "2    20.0\n",
       "3    30.0\n",
       "4    30.0\n",
       "dtype: float64"
      ]
     },
     "execution_count": 47,
     "metadata": {},
     "output_type": "execute_result"
    }
   ],
   "source": [
    "# backfill或bfill表示用后一个元素的值填充空值\n",
    "# ffill或pad表示用前一个元素的值填充空值\n",
    "ser4.fillna(method='ffill')"
   ]
  },
  {
   "cell_type": "code",
   "execution_count": 52,
   "id": "d4bded1b",
   "metadata": {},
   "outputs": [
    {
     "data": {
      "text/plain": [
       "0    NaN\n",
       "1    1.0\n",
       "2    2.0\n",
       "3    3.0\n",
       "4    4.0\n",
       "dtype: float64"
      ]
     },
     "execution_count": 52,
     "metadata": {},
     "output_type": "execute_result"
    }
   ],
   "source": [
    "ser5 = pd.Series(range(5))\n",
    "ser5.where(ser5 > 0)"
   ]
  },
  {
   "cell_type": "code",
   "execution_count": 54,
   "id": "2f388ea7",
   "metadata": {},
   "outputs": [
    {
     "data": {
      "text/plain": [
       "0    10\n",
       "1    10\n",
       "2     2\n",
       "3     3\n",
       "4     4\n",
       "dtype: int64"
      ]
     },
     "execution_count": 54,
     "metadata": {},
     "output_type": "execute_result"
    }
   ],
   "source": [
    "ser5.where(ser5 > 1, 10)"
   ]
  },
  {
   "cell_type": "code",
   "execution_count": 58,
   "id": "c1a60dbb",
   "metadata": {},
   "outputs": [
    {
     "data": {
      "text/plain": [
       "0     0\n",
       "1     1\n",
       "2    10\n",
       "3    10\n",
       "4    10\n",
       "dtype: int64"
      ]
     },
     "execution_count": 58,
     "metadata": {},
     "output_type": "execute_result"
    }
   ],
   "source": [
    "ser5.mask(ser5 > 1, 10)"
   ]
  },
  {
   "cell_type": "code",
   "execution_count": 61,
   "id": "e6aba0c8",
   "metadata": {},
   "outputs": [
    {
     "name": "stdout",
     "output_type": "stream",
     "text": [
      "0     apple\n",
      "1    banana\n",
      "2     apple\n",
      "3    pitaya\n",
      "4     apple\n",
      "5    pitaya\n",
      "6    durian\n",
      "dtype: object\n"
     ]
    },
    {
     "data": {
      "text/plain": [
       "0    False\n",
       "1    False\n",
       "2     True\n",
       "3    False\n",
       "4     True\n",
       "5     True\n",
       "6    False\n",
       "dtype: bool"
      ]
     },
     "execution_count": 61,
     "metadata": {},
     "output_type": "execute_result"
    }
   ],
   "source": [
    "print(ser3)\n",
    "ser3.duplicated()"
   ]
  },
  {
   "cell_type": "code",
   "execution_count": 63,
   "id": "0b5f2fe3",
   "metadata": {},
   "outputs": [
    {
     "data": {
      "text/plain": [
       "0     apple\n",
       "1    banana\n",
       "3    pitaya\n",
       "6    durian\n",
       "dtype: object"
      ]
     },
     "execution_count": 63,
     "metadata": {},
     "output_type": "execute_result"
    }
   ],
   "source": [
    "ser3.drop_duplicates()"
   ]
  },
  {
   "cell_type": "code",
   "execution_count": 65,
   "id": "151e33fe",
   "metadata": {},
   "outputs": [
    {
     "data": {
      "text/plain": [
       "0       cat\n",
       "1       dog\n",
       "2       NaN\n",
       "3    rabbit\n",
       "dtype: object"
      ]
     },
     "execution_count": 65,
     "metadata": {},
     "output_type": "execute_result"
    }
   ],
   "source": [
    "ser6 = pd.Series(['cat', 'dog', np.nan, 'rabbit'])\n",
    "ser6"
   ]
  },
  {
   "cell_type": "code",
   "execution_count": 67,
   "id": "ce0aee56",
   "metadata": {},
   "outputs": [
    {
     "data": {
      "text/plain": [
       "0    kitten\n",
       "1     puppy\n",
       "2       NaN\n",
       "3       NaN\n",
       "dtype: object"
      ]
     },
     "execution_count": 67,
     "metadata": {},
     "output_type": "execute_result"
    }
   ],
   "source": [
    "ser6.map({'cat': 'kitten', 'dog': 'puppy'})"
   ]
  },
  {
   "cell_type": "code",
   "execution_count": 69,
   "id": "3f9bcbba",
   "metadata": {},
   "outputs": [
    {
     "data": {
      "text/plain": [
       "0       I am a cat\n",
       "1       I am a dog\n",
       "2              NaN\n",
       "3    I am a rabbit\n",
       "dtype: object"
      ]
     },
     "execution_count": 69,
     "metadata": {},
     "output_type": "execute_result"
    }
   ],
   "source": [
    "ser6.map('I am a {}'.format, na_action='ignore')"
   ]
  },
  {
   "cell_type": "code",
   "execution_count": 71,
   "id": "f4514226",
   "metadata": {},
   "outputs": [
    {
     "data": {
      "text/plain": [
       "London      20\n",
       "New York    21\n",
       "Helsinki    12\n",
       "dtype: int64"
      ]
     },
     "execution_count": 71,
     "metadata": {},
     "output_type": "execute_result"
    }
   ],
   "source": [
    "ser7 = pd.Series([20, 21, 12],  index=['London', 'New York', 'Helsinki'])\n",
    "ser7"
   ]
  },
  {
   "cell_type": "code",
   "execution_count": 73,
   "id": "b9991744",
   "metadata": {},
   "outputs": [
    {
     "data": {
      "text/plain": [
       "London      400\n",
       "New York    441\n",
       "Helsinki    144\n",
       "dtype: int64"
      ]
     },
     "execution_count": 73,
     "metadata": {},
     "output_type": "execute_result"
    }
   ],
   "source": [
    "ser7.apply(np.square)"
   ]
  },
  {
   "cell_type": "code",
   "execution_count": 75,
   "id": "c4bb8340",
   "metadata": {},
   "outputs": [
    {
     "data": {
      "text/plain": [
       "London      15\n",
       "New York    16\n",
       "Helsinki     7\n",
       "dtype: int64"
      ]
     },
     "execution_count": 75,
     "metadata": {},
     "output_type": "execute_result"
    }
   ],
   "source": [
    "ser7.apply(lambda x, value: x - value, args=(5, ))"
   ]
  },
  {
   "cell_type": "markdown",
   "id": "84f3a2dc",
   "metadata": {},
   "source": [
    "#### 排序和取头部值的方法"
   ]
  },
  {
   "cell_type": "code",
   "execution_count": 77,
   "id": "de5e27a2",
   "metadata": {},
   "outputs": [
    {
     "data": {
      "text/plain": [
       "pitaya    12\n",
       "peach     25\n",
       "grape     35\n",
       "apple     57\n",
       "orange    89\n",
       "banana    96\n",
       "dtype: int64"
      ]
     },
     "execution_count": 77,
     "metadata": {},
     "output_type": "execute_result"
    }
   ],
   "source": [
    "ser8 = pd.Series(\n",
    "    data=[35, 96, 12, 57, 25, 89], \n",
    "index=['grape', 'banana', 'pitaya', 'apple', 'peach', 'orange']\n",
    ")\n",
    "# 按值从小到大排序\n",
    "ser8.sort_values()"
   ]
  },
  {
   "cell_type": "code",
   "execution_count": 81,
   "id": "755d2165",
   "metadata": {},
   "outputs": [
    {
     "data": {
      "text/plain": [
       "pitaya    12\n",
       "peach     25\n",
       "orange    89\n",
       "grape     35\n",
       "banana    96\n",
       "apple     57\n",
       "dtype: int64"
      ]
     },
     "execution_count": 81,
     "metadata": {},
     "output_type": "execute_result"
    }
   ],
   "source": [
    "# 按索引从大到小排序\n",
    "ser8.sort_index(ascending=False)"
   ]
  },
  {
   "cell_type": "code",
   "execution_count": 83,
   "id": "7dbafd74",
   "metadata": {},
   "outputs": [
    {
     "data": {
      "text/plain": [
       "banana    96\n",
       "orange    89\n",
       "apple     57\n",
       "dtype: int64"
      ]
     },
     "execution_count": 83,
     "metadata": {},
     "output_type": "execute_result"
    }
   ],
   "source": [
    "# 值最大的3个\n",
    "ser8.nlargest(3)"
   ]
  },
  {
   "cell_type": "code",
   "execution_count": 85,
   "id": "12ae0fa2",
   "metadata": {},
   "outputs": [
    {
     "data": {
      "text/plain": [
       "pitaya    12\n",
       "peach     25\n",
       "dtype: int64"
      ]
     },
     "execution_count": 85,
     "metadata": {},
     "output_type": "execute_result"
    }
   ],
   "source": [
    "# 值最小的2个\n",
    "ser8.nsmallest(2)"
   ]
  },
  {
   "cell_type": "markdown",
   "id": "5464841e",
   "metadata": {},
   "source": [
    "### 绘制图表"
   ]
  },
  {
   "cell_type": "code",
   "execution_count": 4,
   "id": "00e68b2f",
   "metadata": {},
   "outputs": [],
   "source": [
    "import matplotlib.pyplot as plt\n",
    "\n",
    "# 配置支持中文的非衬线字体（默认的字体无法显示中文）\n",
    "plt.rcParams['font.sans-serif'] = ['SimHei', ]\n",
    "# 使用指定的中文字体时需要下面的配置来避免负号无法显示\n",
    "plt.rcParams['axes.unicode_minus'] = False"
   ]
  },
  {
   "cell_type": "code",
   "execution_count": 5,
   "id": "10de668d",
   "metadata": {},
   "outputs": [
    {
     "data": {
      "image/png": "[encoded data removed]",
      "text/plain": [
       "<Figure size 432x288 with 1 Axes>"
      ]
     },
     "metadata": {
      "needs_background": "light"
     },
     "output_type": "display_data"
    }
   ],
   "source": [
    "ser9 = pd.Series({'一季度': 400, '二季度': 520, '三季度': 180, '四季度': 380})\n",
    "# 通过Series对象的plot方法绘图（kind='bar'表示绘制柱状图）\n",
    "ser9.plot(kind='bar', color=['r', 'g', 'b', 'y'])\n",
    "# x轴的坐标旋转到0度（中文水平显示）\n",
    "plt.xticks(rotation=0)\n",
    "# 在柱状图的柱子上绘制数字\n",
    "for i in range(4):\n",
    "    plt.text(i, ser9[i] + 5, ser9[i], ha='center')\n",
    "# 显示图像\n",
    "plt.show()"
   ]
  },
  {
   "cell_type": "code",
   "execution_count": 6,
   "id": "d09ce2cb",
   "metadata": {},
   "outputs": [
    {
     "data": {
      "image/png": "[encoded data removed]",
      "text/plain": [
       "<Figure size 432x288 with 1 Axes>"
      ]
     },
     "metadata": {},
     "output_type": "display_data"
    }
   ],
   "source": [
    "# autopct参数可以配置在饼图上显示每块饼的占比\n",
    "ser9.plot(kind='pie', autopct='%.1f%%')\n",
    "# 设置y轴的标签（显示在饼图左侧的文字）\n",
    "plt.ylabel('各季度占比')\n",
    "plt.show()"
   ]
  }
 ],
 "metadata": {
  "kernelspec": {
   "display_name": "Python 3 (ipykernel)",
   "language": "python",
   "name": "python3"
  },
  "language_info": {
   "codemirror_mode": {
    "name": "ipython",
    "version": 3
   },
   "file_extension": ".py",
   "mimetype": "text/x-python",
   "name": "python",
   "nbconvert_exporter": "python",
   "pygments_lexer": "ipython3",
   "version": "3.9.7"
  }
 },
 "nbformat": 4,
 "nbformat_minor": 5
}
