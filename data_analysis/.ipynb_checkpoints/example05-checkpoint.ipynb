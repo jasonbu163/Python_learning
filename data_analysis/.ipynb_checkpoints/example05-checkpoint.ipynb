{
 "cells": [
  {
   "cell_type": "markdown",
   "id": "870ce353",
   "metadata": {},
   "source": [
    "# Pandas的应用-3"
   ]
  },
  {
   "cell_type": "code",
   "execution_count": 7,
   "id": "52e6dab1",
   "metadata": {},
   "outputs": [],
   "source": [
    "import numpy as np\n",
    "import pandas as pd\n",
    "import matplotlib.pyplot as plt"
   ]
  },
  {
   "cell_type": "markdown",
   "id": "e628be05",
   "metadata": {},
   "source": [
    "## DataFrame的应用"
   ]
  },
  {
   "cell_type": "markdown",
   "id": "74b7a359",
   "metadata": {},
   "source": [
    "### 数据清洗"
   ]
  },
  {
   "cell_type": "markdown",
   "id": "3b06dbbf",
   "metadata": {},
   "source": [
    "#### 缺失值"
   ]
  },
  {
   "cell_type": "code",
   "execution_count": null,
   "id": "68b82ce1",
   "metadata": {},
   "outputs": [],
   "source": []
  },
  {
   "cell_type": "markdown",
   "id": "c01d404c",
   "metadata": {},
   "source": [
    "#### 重复值"
   ]
  },
  {
   "cell_type": "code",
   "execution_count": null,
   "id": "3b1d9580",
   "metadata": {},
   "outputs": [],
   "source": []
  },
  {
   "cell_type": "markdown",
   "id": "eea544c1",
   "metadata": {},
   "source": [
    "#### 异常值"
   ]
  },
  {
   "cell_type": "code",
   "execution_count": null,
   "id": "a4ae97dd",
   "metadata": {},
   "outputs": [],
   "source": []
  },
  {
   "cell_type": "markdown",
   "id": "631d3790",
   "metadata": {},
   "source": [
    "#### 预处理"
   ]
  },
  {
   "cell_type": "code",
   "execution_count": null,
   "id": "e7387c55",
   "metadata": {},
   "outputs": [],
   "source": []
  }
 ],
 "metadata": {
  "kernelspec": {
   "display_name": "Python 3 (ipykernel)",
   "language": "python",
   "name": "python3"
  },
  "language_info": {
   "codemirror_mode": {
    "name": "ipython",
    "version": 3
   },
   "file_extension": ".py",
   "mimetype": "text/x-python",
   "name": "python",
   "nbconvert_exporter": "python",
   "pygments_lexer": "ipython3",
   "version": "3.9.7"
  }
 },
 "nbformat": 4,
 "nbformat_minor": 5
}
